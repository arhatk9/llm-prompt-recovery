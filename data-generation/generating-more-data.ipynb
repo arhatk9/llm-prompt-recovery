{
 "cells": [
  {
   "cell_type": "markdown",
   "id": "164b9d29",
   "metadata": {
    "_cell_guid": "b1076dfc-b9ad-4769-8c92-a6c4dae69d19",
    "_uuid": "8f2839f25d086af736a60e9eeb907d3b93b6e0e5",
    "papermill": {
     "duration": 0.004089,
     "end_time": "2024-02-27T00:01:40.835757",
     "exception": false,
     "start_time": "2024-02-27T00:01:40.831668",
     "status": "completed"
    },
    "tags": []
   },
   "source": [
    "# Starter Notebook: Generating More Data With Gemma\n",
    "Our ultimate goal in this competition is to take an original sample of text and a new version of that text rewritten by Gemma, and to figure out what prompt was used to get the new version. A helpful first step is to be able to generate a bunch of examples of what that looks like, so we can then learn the relationships between the original text, rewrite prompt and rewritten text.\n",
    "\n",
    "To generate examples, we'll need a few things:\n",
    "1. A corpus of original texts\n",
    "2. A set of rewrite prompts\n",
    "3. Our model (Gemma!) to use the original text and rewrite prompt to generate a rewritten text\n",
    "\n",
    "Let's tackle them one by one."
   ]
  },
  {
   "cell_type": "markdown",
   "id": "64d2c551",
   "metadata": {
    "papermill": {
     "duration": 0.00335,
     "end_time": "2024-02-27T00:01:40.842892",
     "exception": false,
     "start_time": "2024-02-27T00:01:40.839542",
     "status": "completed"
    },
    "tags": []
   },
   "source": [
    "## Generating `original_text`\n",
    "While we don't know too much about the original text used in the competition test set,\n",
    "the meta-kaggle dataset provides a corpus of forum messages on kaggle that we can\n",
    "use as a simple example.\n"
   ]
  },
  {
   "cell_type": "code",
   "execution_count": 3,
   "id": "63ca1004",
   "metadata": {
    "execution": {
     "iopub.execute_input": "2024-02-27T00:01:40.851576Z",
     "iopub.status.busy": "2024-02-27T00:01:40.850996Z",
     "iopub.status.idle": "2024-02-27T00:02:05.615115Z",
     "shell.execute_reply": "2024-02-27T00:02:05.614191Z"
    },
    "papermill": {
     "duration": 24.770989,
     "end_time": "2024-02-27T00:02:05.617388",
     "exception": false,
     "start_time": "2024-02-27T00:01:40.846399",
     "status": "completed"
    },
    "tags": [],
    "ExecuteTime": {
     "end_time": "2024-04-01T00:11:07.036436Z",
     "start_time": "2024-04-01T00:10:57.337848Z"
    }
   },
   "outputs": [
    {
     "data": {
      "text/plain": "       Id  ForumTopicId  PostUserId             PostDate  \\\n0  667014        113221     2358604  11/06/2019 18:05:48   \n1  667013        116036     1788308  11/06/2019 18:05:43   \n2  667012        116035     2532029  11/06/2019 18:05:28   \n3  667011        116032      413189  11/06/2019 18:02:30   \n4  667009        116025     1939378  11/06/2019 18:01:09   \n\n   ReplyToForumMessageId                                            Message  \\\n0                    NaN                   <p>Looks really helpful ... </p>   \n1                    NaN  <p>Might someone downloaded train images 180+ ...   \n2                    NaN  <p>Nice Article, Arjit!\\nJust a small point th...   \n3               666992.0  <p>Nope it was actually taking lot of space. S...   \n4               666971.0  <p>But it's fun xd. I saw the .000 before find...   \n\n   Medal MedalAwardDate  \n0    3.0     11/13/2019  \n1    2.0     11/12/2019  \n2    NaN            NaN  \n3    NaN            NaN  \n4    NaN            NaN  ",
      "text/html": "<div>\n<style scoped>\n    .dataframe tbody tr th:only-of-type {\n        vertical-align: middle;\n    }\n\n    .dataframe tbody tr th {\n        vertical-align: top;\n    }\n\n    .dataframe thead th {\n        text-align: right;\n    }\n</style>\n<table border=\"1\" class=\"dataframe\">\n  <thead>\n    <tr style=\"text-align: right;\">\n      <th></th>\n      <th>Id</th>\n      <th>ForumTopicId</th>\n      <th>PostUserId</th>\n      <th>PostDate</th>\n      <th>ReplyToForumMessageId</th>\n      <th>Message</th>\n      <th>Medal</th>\n      <th>MedalAwardDate</th>\n    </tr>\n  </thead>\n  <tbody>\n    <tr>\n      <th>0</th>\n      <td>667014</td>\n      <td>113221</td>\n      <td>2358604</td>\n      <td>11/06/2019 18:05:48</td>\n      <td>NaN</td>\n      <td>&lt;p&gt;Looks really helpful ... &lt;/p&gt;</td>\n      <td>3.0</td>\n      <td>11/13/2019</td>\n    </tr>\n    <tr>\n      <th>1</th>\n      <td>667013</td>\n      <td>116036</td>\n      <td>1788308</td>\n      <td>11/06/2019 18:05:43</td>\n      <td>NaN</td>\n      <td>&lt;p&gt;Might someone downloaded train images 180+ ...</td>\n      <td>2.0</td>\n      <td>11/12/2019</td>\n    </tr>\n    <tr>\n      <th>2</th>\n      <td>667012</td>\n      <td>116035</td>\n      <td>2532029</td>\n      <td>11/06/2019 18:05:28</td>\n      <td>NaN</td>\n      <td>&lt;p&gt;Nice Article, Arjit!\\nJust a small point th...</td>\n      <td>NaN</td>\n      <td>NaN</td>\n    </tr>\n    <tr>\n      <th>3</th>\n      <td>667011</td>\n      <td>116032</td>\n      <td>413189</td>\n      <td>11/06/2019 18:02:30</td>\n      <td>666992.0</td>\n      <td>&lt;p&gt;Nope it was actually taking lot of space. S...</td>\n      <td>NaN</td>\n      <td>NaN</td>\n    </tr>\n    <tr>\n      <th>4</th>\n      <td>667009</td>\n      <td>116025</td>\n      <td>1939378</td>\n      <td>11/06/2019 18:01:09</td>\n      <td>666971.0</td>\n      <td>&lt;p&gt;But it's fun xd. I saw the .000 before find...</td>\n      <td>NaN</td>\n      <td>NaN</td>\n    </tr>\n  </tbody>\n</table>\n</div>"
     },
     "execution_count": 3,
     "metadata": {},
     "output_type": "execute_result"
    }
   ],
   "source": [
    "import pandas as pd\n",
    "\n",
    "forum_messsages_df = pd.read_csv('../meta-kaggle/ForumMessages.csv')\n",
    "forum_messsages_df.head()"
   ]
  },
  {
   "cell_type": "code",
   "execution_count": 4,
   "id": "d2854bf5",
   "metadata": {
    "execution": {
     "iopub.execute_input": "2024-02-27T00:02:05.627975Z",
     "iopub.status.busy": "2024-02-27T00:02:05.627674Z",
     "iopub.status.idle": "2024-02-27T00:02:05.633053Z",
     "shell.execute_reply": "2024-02-27T00:02:05.632189Z"
    },
    "papermill": {
     "duration": 0.013056,
     "end_time": "2024-02-27T00:02:05.634999",
     "exception": false,
     "start_time": "2024-02-27T00:02:05.621943",
     "status": "completed"
    },
    "tags": [],
    "ExecuteTime": {
     "end_time": "2024-04-01T00:11:07.039597Z",
     "start_time": "2024-04-01T00:11:07.037589Z"
    }
   },
   "outputs": [],
   "source": [
    "# Let's grab the first 5 messages to test our generation pipeline:\n",
    "\n",
    "original_texts = forum_messsages_df['Message'][:5]"
   ]
  },
  {
   "cell_type": "markdown",
   "id": "8533b92b",
   "metadata": {
    "papermill": {
     "duration": 0.004063,
     "end_time": "2024-02-27T00:02:05.643328",
     "exception": false,
     "start_time": "2024-02-27T00:02:05.639265",
     "status": "completed"
    },
    "tags": []
   },
   "source": [
    "## Generating `rewrite_prompt`\n",
    "While there are lots of ways to come up with rewrite prompts, for simplicity here are a few random prompts we can use."
   ]
  },
  {
   "cell_type": "code",
   "execution_count": 5,
   "id": "dabf82cb",
   "metadata": {
    "execution": {
     "iopub.execute_input": "2024-02-27T00:02:05.655103Z",
     "iopub.status.busy": "2024-02-27T00:02:05.654108Z",
     "iopub.status.idle": "2024-02-27T00:02:05.659645Z",
     "shell.execute_reply": "2024-02-27T00:02:05.658578Z"
    },
    "papermill": {
     "duration": 0.013062,
     "end_time": "2024-02-27T00:02:05.661644",
     "exception": false,
     "start_time": "2024-02-27T00:02:05.648582",
     "status": "completed"
    },
    "tags": [],
    "ExecuteTime": {
     "end_time": "2024-04-01T00:11:13.690729Z",
     "start_time": "2024-04-01T00:11:13.688622Z"
    }
   },
   "outputs": [],
   "source": [
    "rewrite_prompts = [\n",
    "    'Explain this to me like I\\'m five.',\n",
    "    'Convert this into a sea shanty.',\n",
    "    'Make this rhyme.',\n",
    "]"
   ]
  },
  {
   "cell_type": "markdown",
   "id": "f422338e",
   "metadata": {
    "papermill": {
     "duration": 0.003693,
     "end_time": "2024-02-27T00:02:05.669444",
     "exception": false,
     "start_time": "2024-02-27T00:02:05.665751",
     "status": "completed"
    },
    "tags": []
   },
   "source": [
    "## Generating `rewritten_text` with Gemma\n",
    "Now for the fun part! We can use gemma to rewrite our original text samples\n",
    "using the rewrite prompts we created.\n",
    "The code in this cell is borrowed from [the model card](https://www.kaggle.com/models/google/gemma/frameworks/pyTorch/variations/7b-it-quant).\n",
    "The important things to know:\n",
    "\n",
    "We're using the 7B parameter instruction tuned quantized model, which means:\n",
    "\n",
    "- 7B Parameter: this is the larger of the two Gemma models (the other has 2 billion parameters).\n",
    "    In general we expect the larger model to perform better on complex tasks, but\n",
    "    it's more resource intensive. You can see exactly how Gemma 7B compares to to Gemma 2B [here](https://ai.google.dev/gemma).\n",
    "- Instruction Tuned: instruction tuning is an extra training step that results in a model that\n",
    "    can follow user instructions better. Our rewrite prompt is a kind of instruction, so this is what we want!\n",
    "- Quantized: quantization is a way of shrinking the size of a model by reducing the precision of each\n",
    "    parameter; so while our model still has 7 billion parameters, it's easier to run on limited\n",
    "    hardware.\n",
    "\n",
    "At the end of this cell, we'll have a `model` we can call `generate` on with a specially formatted prompt."
   ]
  },
  {
   "cell_type": "code",
   "execution_count": 15,
   "id": "83c3871b",
   "metadata": {
    "execution": {
     "iopub.execute_input": "2024-02-27T00:02:05.678350Z",
     "iopub.status.busy": "2024-02-27T00:02:05.678078Z",
     "iopub.status.idle": "2024-02-27T00:03:29.268583Z",
     "shell.execute_reply": "2024-02-27T00:03:29.267589Z"
    },
    "papermill": {
     "duration": 83.597762,
     "end_time": "2024-02-27T00:03:29.271078",
     "exception": false,
     "start_time": "2024-02-27T00:02:05.673316",
     "status": "completed"
    },
    "tags": [],
    "ExecuteTime": {
     "end_time": "2024-04-01T00:26:47.184507Z",
     "start_time": "2024-04-01T00:26:35.357677Z"
    }
   },
   "outputs": [],
   "source": [
    "# !pip install -q -U immutabledict sentencepiece \n",
    "# !git clone https://github.com/google/gemma_pytorch.git\n",
    "# !mkdir '/Users/shivaninandani/ASU/semester-4/cse-598-slt/project/llm-prompt-recovery/gemma/'\n",
    "# !mv '/Users/shivaninandani/ASU/semester-4/cse-598-slt/project/llm-prompt-recovery/gemma_pytorch/gemma/*' '/Users/shivaninandani/ASU/semester-4/cse-598-slt/project/llm-prompt-recovery/gemma/'\n",
    "\n",
    "import sys \n",
    "sys.path.append(\"/Users/shivaninandani/ASU/semester-4/cse-598-slt/project/llm-prompt-recovery/gemma_pytorch/\") \n",
    "from gemma.config import GemmaConfig, get_config_for_7b, get_config_for_2b\n",
    "from gemma.model import GemmaForCausalLM\n",
    "from gemma.tokenizer import Tokenizer\n",
    "import contextlib\n",
    "import os\n",
    "import torch\n",
    "\n",
    "# Load the model\n",
    "VARIANT = \"7b-it-quant\" \n",
    "MACHINE_TYPE = \"cpu\" \n",
    "weights_dir = '/Users/shivaninandani/ASU/semester-4/cse-598-slt/project/llm-prompt-recovery/gemma/pytorch/7b-it-quant/2' \n",
    "\n",
    "@contextlib.contextmanager\n",
    "def _set_default_tensor_type(dtype: torch.dtype):\n",
    "  \"\"\"Sets the default torch dtype to the given dtype.\"\"\"\n",
    "  torch.set_default_dtype(dtype)\n",
    "  yield\n",
    "  torch.set_default_dtype(torch.float)\n",
    "\n",
    "# Model Config.\n",
    "model_config = get_config_for_2b() if \"2b\" in VARIANT else get_config_for_7b()\n",
    "model_config.tokenizer = os.path.join(weights_dir, \"tokenizer.model\")\n",
    "model_config.quant = \"quant\" in VARIANT\n",
    "\n",
    "# Model.\n",
    "device = torch.device(MACHINE_TYPE)\n",
    "with _set_default_tensor_type(model_config.get_dtype()):\n",
    "  model = GemmaForCausalLM(model_config)\n",
    "  ckpt_path = os.path.join(weights_dir, f'gemma-{VARIANT}.ckpt')\n",
    "  model.load_weights(ckpt_path)\n",
    "  model = model.to(device).eval()\n"
   ]
  },
  {
   "cell_type": "code",
   "execution_count": 16,
   "id": "ab8cb78d",
   "metadata": {
    "execution": {
     "iopub.execute_input": "2024-02-27T00:03:29.282402Z",
     "iopub.status.busy": "2024-02-27T00:03:29.281919Z",
     "iopub.status.idle": "2024-02-27T00:06:57.403308Z",
     "shell.execute_reply": "2024-02-27T00:06:57.402295Z"
    },
    "papermill": {
     "duration": 208.129781,
     "end_time": "2024-02-27T00:06:57.405896",
     "exception": false,
     "start_time": "2024-02-27T00:03:29.276115",
     "status": "completed"
    },
    "tags": [],
    "ExecuteTime": {
     "end_time": "2024-04-01T01:30:10.429497Z",
     "start_time": "2024-04-01T00:26:47.186951Z"
    }
   },
   "outputs": [],
   "source": [
    "# Now we can loop through our input texts, randomly select a rewrite prompt, and see Gemma in action:\n",
    "\n",
    "import random\n",
    "random.seed(0)\n",
    "# This is the prompt format the model expects\n",
    "USER_CHAT_TEMPLATE = \"<start_of_turn>user\\n{prompt}<end_of_turn>\\n<start_of_turn>model\\n\"\n",
    "\n",
    "rewrite_data = []\n",
    "\n",
    "for original_text in original_texts:\n",
    "    rewrite_prompt = random.choice(rewrite_prompts)\n",
    "    prompt = f'{rewrite_prompt}\\n{original_text}'\n",
    "    rewritten_text = model.generate(\n",
    "        USER_CHAT_TEMPLATE.format(prompt=prompt),\n",
    "        device=device,\n",
    "        output_len=100,\n",
    "    )\n",
    "    rewrite_data.append({\n",
    "        'original_text': original_text,\n",
    "        'rewrite_prompt': rewrite_prompt,\n",
    "        'rewritten_text': rewritten_text,\n",
    "    })\n",
    "    "
   ]
  },
  {
   "cell_type": "code",
   "execution_count": 17,
   "id": "37ed3df4",
   "metadata": {
    "execution": {
     "iopub.execute_input": "2024-02-27T00:06:57.419099Z",
     "iopub.status.busy": "2024-02-27T00:06:57.418757Z",
     "iopub.status.idle": "2024-02-27T00:06:57.427371Z",
     "shell.execute_reply": "2024-02-27T00:06:57.426390Z"
    },
    "papermill": {
     "duration": 0.017985,
     "end_time": "2024-02-27T00:06:57.429758",
     "exception": false,
     "start_time": "2024-02-27T00:06:57.411773",
     "status": "completed"
    },
    "tags": [],
    "ExecuteTime": {
     "end_time": "2024-04-01T01:59:28.435456Z",
     "start_time": "2024-04-01T01:59:28.422607Z"
    }
   },
   "outputs": [
    {
     "data": {
      "text/plain": "array([['<p>Looks really helpful ... </p>',\n        'Convert this into a sea shanty.',\n        \"Sure, here's a shanty to go with the text:\\n\\n(Verse 1) The text looks really helpful,\\nA treasure to the weary soul,\\nWith every word, a story unfolds,\\nAnd I'm feeling mighty whole.\\n\\n(Chorus) Heave ho, me hearties, listen well,\\nThe text is a guide to help us all,\\nFrom the deepest sea to the highest sky,\\nIt's a resource that's always nigh.\"]],\n      dtype=object)"
     },
     "execution_count": 17,
     "metadata": {},
     "output_type": "execute_result"
    }
   ],
   "source": [
    "# Let's turn our generated data into a dataframe, and spot check the first rewrite to see if it makes sense.\n",
    "rewrite_data_df = pd.DataFrame(rewrite_data)\n",
    "rewrite_data_df[:1].values"
   ]
  },
  {
   "cell_type": "code",
   "outputs": [],
   "source": [
    "rewrite_data_df.to_csv('../generated-data/forum-messages.csv', index=False)"
   ],
   "metadata": {
    "collapsed": false,
    "ExecuteTime": {
     "end_time": "2024-04-01T02:01:37.512498Z",
     "start_time": "2024-04-01T02:01:37.508951Z"
    }
   },
   "id": "ab80247a3f8170b4",
   "execution_count": 20
  },
  {
   "cell_type": "code",
   "outputs": [
    {
     "data": {
      "text/plain": "5"
     },
     "execution_count": 22,
     "metadata": {},
     "output_type": "execute_result"
    }
   ],
   "source": [
    "rewrite_data.__len__()"
   ],
   "metadata": {
    "collapsed": false,
    "ExecuteTime": {
     "end_time": "2024-04-01T02:03:08.601966Z",
     "start_time": "2024-04-01T02:03:08.599233Z"
    }
   },
   "id": "88e0700c43e849f3",
   "execution_count": 22
  },
  {
   "cell_type": "markdown",
   "id": "93b94a51",
   "metadata": {
    "papermill": {
     "duration": 0.005345,
     "end_time": "2024-02-27T00:06:57.440636",
     "exception": false,
     "start_time": "2024-02-27T00:06:57.435291",
     "status": "completed"
    },
    "tags": []
   },
   "source": [
    "# Next Steps\n",
    "\n",
    "Huzzah! We have a dataset with original texts, rewrite prompts, and rewritten text. Here are a couple of suggestions of next steps you could take to generate a larger, more diverse dataset:\n",
    "1. Add more original text data sources; besides just using all of the forum messages (instead of just the first 5), Kaggle has tons of datasets that would make reasonable input text. Here are few random datasets you could use:\n",
    "    - The `Plot` column from the [Wikipedia Movie Plots dataset](https://www.kaggle.com/datasets/jrobischon/wikipedia-movie-plots).\n",
    "    - The `text` column from the [Emotions dataset](https://www.kaggle.com/datasets/nelgiriyewithana/emotions).\n",
    "    - The `body_text` and `abstract` columns of the [Wikibooks Dataset](https://www.kaggle.com/datasets/dhruvildave/wikibooks-dataset).\n",
    "    \n",
    "    Note that each of these may need different preprocessing; for example, Gemma has a context length of 8192 tokens, so if the text is long, you'll need to truncate it.\n",
    "2. Use gemma to generate original text.\n",
    "3. Expand the list of rewrite prompts. You can come up with them manually, or explore having Gemma write rewrite prompts.\n",
    "4. Play around with the generation of `rewritten_text`:\n",
    "   - How does changing `output_len` affect the length and quality of rewrites?\n",
    "   - Do rewrites with the 2B parameter model differ substantially from the 7B model?\n",
    "   - Can you use [few shot prompting](https://www.promptingguide.ai/techniques/fewshot) to get higher quality rewrites?"
   ]
  },
  {
   "cell_type": "code",
   "execution_count": null,
   "id": "f18af3c3",
   "metadata": {
    "papermill": {
     "duration": 0.00533,
     "end_time": "2024-02-27T00:06:57.451546",
     "exception": false,
     "start_time": "2024-02-27T00:06:57.446216",
     "status": "completed"
    },
    "tags": []
   },
   "outputs": [],
   "source": []
  }
 ],
 "metadata": {
  "kaggle": {
   "accelerator": "gpu",
   "dataSources": [
    {
     "databundleVersionId": 7806901,
     "sourceId": 67121,
     "sourceType": "competition"
    },
    {
     "datasetId": 9,
     "sourceId": 7701220,
     "sourceType": "datasetVersion"
    },
    {
     "isSourceIdPinned": true,
     "modelInstanceId": 8749,
     "sourceId": 11359,
     "sourceType": "modelInstanceVersion"
    }
   ],
   "dockerImageVersionId": 30648,
   "isGpuEnabled": true,
   "isInternetEnabled": true,
   "language": "python",
   "sourceType": "notebook"
  },
  "kernelspec": {
   "display_name": "Python 3",
   "language": "python",
   "name": "python3"
  },
  "language_info": {
   "codemirror_mode": {
    "name": "ipython",
    "version": 3
   },
   "file_extension": ".py",
   "mimetype": "text/x-python",
   "name": "python",
   "nbconvert_exporter": "python",
   "pygments_lexer": "ipython3",
   "version": "3.10.13"
  },
  "papermill": {
   "default_parameters": {},
   "duration": 322.251622,
   "end_time": "2024-02-27T00:07:00.419219",
   "environment_variables": {},
   "exception": null,
   "input_path": "__notebook__.ipynb",
   "output_path": "__notebook__.ipynb",
   "parameters": {},
   "start_time": "2024-02-27T00:01:38.167597",
   "version": "2.5.0"
  }
 },
 "nbformat": 4,
 "nbformat_minor": 5
}
